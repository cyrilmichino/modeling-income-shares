{
 "cells": [
  {
   "cell_type": "code",
   "execution_count": 1,
   "metadata": {},
   "outputs": [],
   "source": [
    "from linkedin_scraper import Person, actions\n",
    "from selenium import webdriver\n",
    "from credentials import email, password\n"
   ]
  },
  {
   "cell_type": "code",
   "execution_count": 3,
   "metadata": {},
   "outputs": [
    {
     "ename": "TimeoutException",
     "evalue": "Message: \nStacktrace:\n0   chromedriver                        0x0000000100f12538 chromedriver + 4687160\n1   chromedriver                        0x0000000100f09d83 chromedriver + 4652419\n2   chromedriver                        0x0000000100afafbd chromedriver + 397245\n3   chromedriver                        0x0000000100b46c3c chromedriver + 707644\n4   chromedriver                        0x0000000100b46e11 chromedriver + 708113\n5   chromedriver                        0x0000000100b8b274 chromedriver + 987764\n6   chromedriver                        0x0000000100b6992d chromedriver + 850221\n7   chromedriver                        0x0000000100b887bc chromedriver + 976828\n8   chromedriver                        0x0000000100b696a3 chromedriver + 849571\n9   chromedriver                        0x0000000100b3917f chromedriver + 651647\n10  chromedriver                        0x0000000100b3a15e chromedriver + 655710\n11  chromedriver                        0x0000000100ed2980 chromedriver + 4426112\n12  chromedriver                        0x0000000100ed7c18 chromedriver + 4447256\n13  chromedriver                        0x0000000100eb6e81 chromedriver + 4312705\n14  chromedriver                        0x0000000100ed8966 chromedriver + 4450662\n15  chromedriver                        0x0000000100ea8c9c chromedriver + 4254876\n16  chromedriver                        0x0000000100ef8528 chromedriver + 4580648\n17  chromedriver                        0x0000000100ef86de chromedriver + 4581086\n18  chromedriver                        0x0000000100f099c3 chromedriver + 4651459\n19  libsystem_pthread.dylib             0x00007fff71f0e109 _pthread_start + 148\n20  libsystem_pthread.dylib             0x00007fff71f09b8b thread_start + 15\n",
     "output_type": "error",
     "traceback": [
      "\u001b[0;31m---------------------------------------------------------------------------\u001b[0m",
      "\u001b[0;31mTimeoutException\u001b[0m                          Traceback (most recent call last)",
      "Cell \u001b[0;32mIn[3], line 3\u001b[0m\n\u001b[1;32m      1\u001b[0m driver \u001b[38;5;241m=\u001b[39m webdriver\u001b[38;5;241m.\u001b[39mChrome()\n\u001b[1;32m      2\u001b[0m actions\u001b[38;5;241m.\u001b[39mlogin(driver, email, password) \u001b[38;5;66;03m# if email and password isnt given, it'll prompt in terminal\u001b[39;00m\n\u001b[0;32m----> 3\u001b[0m person \u001b[38;5;241m=\u001b[39m \u001b[43mPerson\u001b[49m\u001b[43m(\u001b[49m\u001b[38;5;124;43m\"\u001b[39;49m\u001b[38;5;124;43mhttps://www.linkedin.com/in/claire-nkatha/\u001b[39;49m\u001b[38;5;124;43m\"\u001b[39;49m\u001b[43m,\u001b[49m\u001b[43m \u001b[49m\u001b[43mdriver\u001b[49m\u001b[38;5;241;43m=\u001b[39;49m\u001b[43mdriver\u001b[49m\u001b[43m)\u001b[49m\n",
      "File \u001b[0;32m/Library/Frameworks/Python.framework/Versions/3.11/lib/python3.11/site-packages/linkedin_scraper/person.py:64\u001b[0m, in \u001b[0;36mPerson.__init__\u001b[0;34m(self, linkedin_url, name, about, experiences, educations, interests, accomplishments, company, job_title, contacts, driver, get, scrape, close_on_complete, time_to_wait_after_login)\u001b[0m\n\u001b[1;32m     61\u001b[0m \u001b[38;5;28mself\u001b[39m\u001b[38;5;241m.\u001b[39mdriver \u001b[38;5;241m=\u001b[39m driver\n\u001b[1;32m     63\u001b[0m \u001b[38;5;28;01mif\u001b[39;00m scrape:\n\u001b[0;32m---> 64\u001b[0m     \u001b[38;5;28;43mself\u001b[39;49m\u001b[38;5;241;43m.\u001b[39;49m\u001b[43mscrape\u001b[49m\u001b[43m(\u001b[49m\u001b[43mclose_on_complete\u001b[49m\u001b[43m)\u001b[49m\n",
      "File \u001b[0;32m/Library/Frameworks/Python.framework/Versions/3.11/lib/python3.11/site-packages/linkedin_scraper/person.py:89\u001b[0m, in \u001b[0;36mPerson.scrape\u001b[0;34m(self, close_on_complete)\u001b[0m\n\u001b[1;32m     87\u001b[0m \u001b[38;5;28;01mdef\u001b[39;00m \u001b[38;5;21mscrape\u001b[39m(\u001b[38;5;28mself\u001b[39m, close_on_complete\u001b[38;5;241m=\u001b[39m\u001b[38;5;28;01mTrue\u001b[39;00m):\n\u001b[1;32m     88\u001b[0m     \u001b[38;5;28;01mif\u001b[39;00m \u001b[38;5;28mself\u001b[39m\u001b[38;5;241m.\u001b[39mis_signed_in():\n\u001b[0;32m---> 89\u001b[0m         \u001b[38;5;28;43mself\u001b[39;49m\u001b[38;5;241;43m.\u001b[39;49m\u001b[43mscrape_logged_in\u001b[49m\u001b[43m(\u001b[49m\u001b[43mclose_on_complete\u001b[49m\u001b[38;5;241;43m=\u001b[39;49m\u001b[43mclose_on_complete\u001b[49m\u001b[43m)\u001b[49m\n\u001b[1;32m     90\u001b[0m     \u001b[38;5;28;01melse\u001b[39;00m:\n\u001b[1;32m     91\u001b[0m         \u001b[38;5;28mprint\u001b[39m(\u001b[38;5;124m\"\u001b[39m\u001b[38;5;124myou are not logged in!\u001b[39m\u001b[38;5;124m\"\u001b[39m)\n",
      "File \u001b[0;32m/Library/Frameworks/Python.framework/Versions/3.11/lib/python3.11/site-packages/linkedin_scraper/person.py:259\u001b[0m, in \u001b[0;36mPerson.scrape_logged_in\u001b[0;34m(self, close_on_complete)\u001b[0m\n\u001b[1;32m    256\u001b[0m driver \u001b[38;5;241m=\u001b[39m \u001b[38;5;28mself\u001b[39m\u001b[38;5;241m.\u001b[39mdriver\n\u001b[1;32m    257\u001b[0m duration \u001b[38;5;241m=\u001b[39m \u001b[38;5;28;01mNone\u001b[39;00m\n\u001b[0;32m--> 259\u001b[0m root \u001b[38;5;241m=\u001b[39m \u001b[43mWebDriverWait\u001b[49m\u001b[43m(\u001b[49m\u001b[43mdriver\u001b[49m\u001b[43m,\u001b[49m\u001b[43m \u001b[49m\u001b[38;5;28;43mself\u001b[39;49m\u001b[38;5;241;43m.\u001b[39;49m\u001b[43m__WAIT_FOR_ELEMENT_TIMEOUT\u001b[49m\u001b[43m)\u001b[49m\u001b[38;5;241;43m.\u001b[39;49m\u001b[43muntil\u001b[49m\u001b[43m(\u001b[49m\n\u001b[1;32m    260\u001b[0m \u001b[43m    \u001b[49m\u001b[43mEC\u001b[49m\u001b[38;5;241;43m.\u001b[39;49m\u001b[43mpresence_of_element_located\u001b[49m\u001b[43m(\u001b[49m\n\u001b[1;32m    261\u001b[0m \u001b[43m        \u001b[49m\u001b[43m(\u001b[49m\n\u001b[1;32m    262\u001b[0m \u001b[43m            \u001b[49m\u001b[43mBy\u001b[49m\u001b[38;5;241;43m.\u001b[39;49m\u001b[43mCLASS_NAME\u001b[49m\u001b[43m,\u001b[49m\n\u001b[1;32m    263\u001b[0m \u001b[43m            \u001b[49m\u001b[38;5;28;43mself\u001b[39;49m\u001b[38;5;241;43m.\u001b[39;49m\u001b[43m__TOP_CARD\u001b[49m\u001b[43m,\u001b[49m\n\u001b[1;32m    264\u001b[0m \u001b[43m        \u001b[49m\u001b[43m)\u001b[49m\n\u001b[1;32m    265\u001b[0m \u001b[43m    \u001b[49m\u001b[43m)\u001b[49m\n\u001b[1;32m    266\u001b[0m \u001b[43m\u001b[49m\u001b[43m)\u001b[49m\n\u001b[1;32m    267\u001b[0m \u001b[38;5;28mself\u001b[39m\u001b[38;5;241m.\u001b[39mfocus()\n\u001b[1;32m    268\u001b[0m \u001b[38;5;28mself\u001b[39m\u001b[38;5;241m.\u001b[39mwait(\u001b[38;5;241m5\u001b[39m)\n",
      "File \u001b[0;32m/Library/Frameworks/Python.framework/Versions/3.11/lib/python3.11/site-packages/selenium/webdriver/support/wait.py:105\u001b[0m, in \u001b[0;36mWebDriverWait.until\u001b[0;34m(self, method, message)\u001b[0m\n\u001b[1;32m    103\u001b[0m     \u001b[38;5;28;01mif\u001b[39;00m time\u001b[38;5;241m.\u001b[39mmonotonic() \u001b[38;5;241m>\u001b[39m end_time:\n\u001b[1;32m    104\u001b[0m         \u001b[38;5;28;01mbreak\u001b[39;00m\n\u001b[0;32m--> 105\u001b[0m \u001b[38;5;28;01mraise\u001b[39;00m TimeoutException(message, screen, stacktrace)\n",
      "\u001b[0;31mTimeoutException\u001b[0m: Message: \nStacktrace:\n0   chromedriver                        0x0000000100f12538 chromedriver + 4687160\n1   chromedriver                        0x0000000100f09d83 chromedriver + 4652419\n2   chromedriver                        0x0000000100afafbd chromedriver + 397245\n3   chromedriver                        0x0000000100b46c3c chromedriver + 707644\n4   chromedriver                        0x0000000100b46e11 chromedriver + 708113\n5   chromedriver                        0x0000000100b8b274 chromedriver + 987764\n6   chromedriver                        0x0000000100b6992d chromedriver + 850221\n7   chromedriver                        0x0000000100b887bc chromedriver + 976828\n8   chromedriver                        0x0000000100b696a3 chromedriver + 849571\n9   chromedriver                        0x0000000100b3917f chromedriver + 651647\n10  chromedriver                        0x0000000100b3a15e chromedriver + 655710\n11  chromedriver                        0x0000000100ed2980 chromedriver + 4426112\n12  chromedriver                        0x0000000100ed7c18 chromedriver + 4447256\n13  chromedriver                        0x0000000100eb6e81 chromedriver + 4312705\n14  chromedriver                        0x0000000100ed8966 chromedriver + 4450662\n15  chromedriver                        0x0000000100ea8c9c chromedriver + 4254876\n16  chromedriver                        0x0000000100ef8528 chromedriver + 4580648\n17  chromedriver                        0x0000000100ef86de chromedriver + 4581086\n18  chromedriver                        0x0000000100f099c3 chromedriver + 4651459\n19  libsystem_pthread.dylib             0x00007fff71f0e109 _pthread_start + 148\n20  libsystem_pthread.dylib             0x00007fff71f09b8b thread_start + 15\n"
     ]
    }
   ],
   "source": [
    "driver = webdriver.Chrome()\n",
    "actions.login(driver, email, password) # if email and password isnt given, it'll prompt in terminal\n",
    "person = Person(\"https://www.linkedin.com/in/claire-nkatha/\", driver=driver)"
   ]
  }
 ],
 "metadata": {
  "kernelspec": {
   "display_name": "Python 3",
   "language": "python",
   "name": "python3"
  },
  "language_info": {
   "codemirror_mode": {
    "name": "ipython",
    "version": 3
   },
   "file_extension": ".py",
   "mimetype": "text/x-python",
   "name": "python",
   "nbconvert_exporter": "python",
   "pygments_lexer": "ipython3",
   "version": "3.11.4"
  }
 },
 "nbformat": 4,
 "nbformat_minor": 2
}
